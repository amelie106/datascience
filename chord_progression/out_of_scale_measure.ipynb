{
 "cells": [
  {
   "cell_type": "code",
   "execution_count": 56,
   "metadata": {},
   "outputs": [],
   "source": [
    "import pandas as pd\n",
    "import chordparser\n",
    "import re\n",
    "import seaborn as sns\n",
    "import matplotlib.pyplot as plt\n",
    "import numpy as np\n",
    "import os\n",
    "import warnings\n",
    "warnings.filterwarnings(\"ignore\")"
   ]
  },
  {
   "cell_type": "code",
   "execution_count": 57,
   "metadata": {},
   "outputs": [],
   "source": [
    "percentages = []"
   ]
  },
  {
   "cell_type": "code",
   "execution_count": 58,
   "metadata": {},
   "outputs": [],
   "source": [
    "# # this file does not contain any chords\n",
    "# os.remove('data/Country/Tim Mcgraw-Taylor Swift')"
   ]
  },
  {
   "cell_type": "code",
   "execution_count": 59,
   "metadata": {},
   "outputs": [],
   "source": [
    "cp = chordparser.Parser()\n",
    "CE = chordparser.ChordEditor()\n",
    "CRC = chordparser.ChordRomanConverter()"
   ]
  },
  {
   "cell_type": "code",
   "execution_count": 60,
   "metadata": {},
   "outputs": [],
   "source": [
    "sharps_to_flats = {\n",
    "    'C#': 'Db',\n",
    "    'D#': 'Eb',\n",
    "    'F#': 'Gb',\n",
    "    'G#': 'Ab',\n",
    "    'A#': 'Bb',\n",
    "}"
   ]
  },
  {
   "cell_type": "code",
   "execution_count": 61,
   "metadata": {},
   "outputs": [],
   "source": [
    "lower_base = {\n",
    "    'C': 'B',\n",
    "    'B': 'Bb',\n",
    "    'Bb': 'A',\n",
    "    'A': 'Ab',\n",
    "    'Ab': 'G',\n",
    "    'G': 'Gb',\n",
    "    'Gb': 'F',\n",
    "    'F': 'E',\n",
    "    'E': 'Eb',\n",
    "    'Eb': 'D',\n",
    "    'D': 'Db',\n",
    "    'Db': 'C'\n",
    "}"
   ]
  },
  {
   "cell_type": "code",
   "execution_count": 62,
   "metadata": {},
   "outputs": [],
   "source": [
    "def key_detector(df, key):\n",
    "    scale = cp.create_scale(key)\n",
    "    \n",
    "    in_scale = 0\n",
    "    chords = []\n",
    "\n",
    "    for i, note in enumerate(scale._get_notes()):\n",
    "        if key.mode == 'major':\n",
    "            if i == 0 or i == 4 or i == 5:\n",
    "                chords.append(CE.create_chord(note.value))\n",
    "            else:\n",
    "                chords.append(CE.create_chord(note.value + 'm'))\n",
    "\n",
    "        if key.mode == 'minor':\n",
    "            if i == 3 or i == 6 or i == 7:\n",
    "                chords.append(CE.create_chord(note.value))\n",
    "            else:\n",
    "                chords.append(CE.create_chord(note.value + 'm'))\n",
    "\n",
    "    for i, row in df.iterrows():\n",
    "        current_cord = CE.create_chord(row['from'])\n",
    "        if current_cord in chords:\n",
    "            in_scale += 1\n",
    "\n",
    "    return in_scale / len(df)"
   ]
  },
  {
   "cell_type": "code",
   "execution_count": 63,
   "metadata": {},
   "outputs": [],
   "source": [
    "def process_song(file):\n",
    "    # dataframe\n",
    "    df = pd.read_csv(file, delimiter='\\t', skiprows=2, header=None)\n",
    "    df.columns=['from', 'to']\n",
    "    \n",
    "    percent_in_scale = 1.0\n",
    "\n",
    "    # signature\n",
    "    with open(file, \"r\") as fin:\n",
    "        signature = fin.readlines()[:2]\n",
    "        \n",
    "    base = re.split(':|\\\\n', signature[0])[1]\n",
    "    capo = re.split(':|\\\\n', signature[1])[1]\n",
    "    \n",
    "    if capo == 'None':\n",
    "        capo = 0\n",
    "    else:\n",
    "        capo = int(capo)\n",
    "\n",
    "    # key and scale\n",
    "    if('m' in base):\n",
    "        mode = 'minor'\n",
    "        base = base.replace('m', '')\n",
    "    else:\n",
    "        mode = 'major'\n",
    "        \n",
    "    if base in sharps_to_flats.keys() and base != df['from'][0].replace('m', ''):\n",
    "        base = sharps_to_flats[base]  \n",
    "\n",
    "    for i in range(capo):\n",
    "        base = lower_base[base]\n",
    "    \n",
    "    key = cp.create_key(base, mode)\n",
    "\n",
    "    df['from'] = df['from'].apply(lambda x: x.replace(')', '').replace('(', '').replace('-5', 'b5').replace('+5', '#5').replace('-', ''))#.replace('5', '').replace('-', ''))\n",
    "    df['to'] = df['to'].apply(lambda x: x.replace(')', '').replace('(', '').replace('-5', 'b5').replace('+5', '#5').replace('-', ''))#.replace('5', '').replace('-', ''))\n",
    "\n",
    "    # convert to roman\n",
    "    if base in sharps_to_flats.keys():\n",
    "        base = sharps_to_flats[base]  \n",
    "        \n",
    "    df['from_roman'] = df['from'].apply(lambda x: CRC.to_roman(CE.create_chord(x),key))\n",
    "    df['to_roman'] = df['to'].apply(lambda x: CRC.to_roman(CE.create_chord(x),key))\n",
    "\n",
    "    if df['from_roman'][0] != 'i' and df['from_roman'][0] != 'I':\n",
    "        global not_i\n",
    "        not_i += 1\n",
    "        percent_in_scale = key_detector(df,key)\n",
    "    \n",
    "    if(percent_in_scale < 1):\n",
    "        print('Not completely in scale:', file)\n",
    "\n",
    "    return df, percent_in_scale"
   ]
  },
  {
   "cell_type": "code",
   "execution_count": 64,
   "metadata": {},
   "outputs": [
    {
     "name": "stdout",
     "output_type": "stream",
     "text": [
      "Not completely in scale: data/Electronic/One More Light-Linkin Park\n",
      "Not completely in scale: data/Electronic/Girls Like You-Maroon 5\n",
      "Not completely in scale: data/Electronic/Dying In La-Panic At the Disco\n",
      "Not completely in scale: data/Electronic/Want You Back-5 Seconds Of Summer\n",
      "Not completely in scale: data/Electronic/Middle-DJ Snake\n",
      "Not completely in scale: data/Electronic/Sharp Edges-Linkin Park\n",
      "Not completely in scale: data/Electronic/Virtual Insanity-Jamiroquai\n",
      "Not completely in scale: data/Electronic/Royals-Lorde\n",
      "Not completely in scale: data/Electronic/Fireflies-Owl City\n",
      "Not completely in scale: data/Electronic/Clarity-Zedd\n",
      "Not completely in scale: data/Electronic/Sorry-Halsey\n",
      "Not completely in scale: data/Electronic/Chandelier-Sia\n",
      "Not completely in scale: data/Electronic/High Hopes-Panic At the Disco\n",
      "Not completely in scale: data/Electronic/Liability-Lorde\n",
      "Not completely in scale: data/Electronic/Ghost Of You-5 Seconds Of Summer\n",
      "Not completely in scale: data/Rock/Proud Mary-Creedence Clearwater Revival\n",
      "Not completely in scale: data/Rock/Wind Of Change-Scorpions\n",
      "Not completely in scale: data/Rock/I Walk The Line-Johnny Cash\n",
      "Not completely in scale: data/Rock/Breezeblocks-Alt-J\n",
      "Not completely in scale: data/Rock/Fix You-Coldplay\n",
      "Not completely in scale: data/Rock/Your Guardian Angel-The Red Jumpsuit Apparatus\n",
      "Not completely in scale: data/Rock/Exit Music For A Film-Radiohead\n",
      "Not completely in scale: data/Rock/More Than A Feeling-Boston\n",
      "Not completely in scale: data/Rock/Old Man-Neil Young\n",
      "Not completely in scale: data/Rock/Oh Darling-The Beatles\n",
      "Not completely in scale: data/Rock/Under The Bridge-Red Hot Chili Peppers\n",
      "Not completely in scale: data/Rock/Radioactive-Imagine Dragons\n",
      "Not completely in scale: data/Rock/Dont Go Away-Oasis\n",
      "Not completely in scale: data/Rock/Disarm-The Smashing Pumpkins\n",
      "Not completely in scale: data/Rock/Total Eclipse Of The Heart-Bonnie Tyler\n",
      "Not completely in scale: data/Rock/Yellow-Coldplay\n",
      "Not completely in scale: data/Rock/Counting Stars-OneRepublic\n",
      "Not completely in scale: data/Rock/Mrs Robinson-Simon  Garfunkel\n",
      "Not completely in scale: data/Rock/Wild Horses-The Rolling Stones\n",
      "Not completely in scale: data/Rock/I Want To Break Free-Queen\n",
      "Not completely in scale: data/Rock/Another Love-Tom Odell\n",
      "Not completely in scale: data/Rock/Renegades-X Ambassadors\n",
      "Not completely in scale: data/Rock/The Scientist-Coldplay\n",
      "Not completely in scale: data/Rock/Wish You Were Here-Pink Floyd\n",
      "Not completely in scale: data/Rock/Gravity-John Mayer\n",
      "Not completely in scale: data/Rock/Something-The Beatles\n",
      "Not completely in scale: data/Rock/Numb-Linkin Park\n",
      "Not completely in scale: data/Rock/I Will Follow You Into The Dark-Death Cab for Cutie\n",
      "Not completely in scale: data/Rock/Somewhere Only We Know-Keane\n",
      "Not completely in scale: data/Rock/Starman-David Bowie\n",
      "Not completely in scale: data/Rock/She Will Be Loved-Maroon 5\n",
      "Not completely in scale: data/Rock/Breakaway-Kelly Clarkson\n",
      "Not completely in scale: data/Rock/Cant Help Falling In Love-Elvis Presley\n",
      "Not completely in scale: data/Rock/Space Oddity-David Bowie\n",
      "Not completely in scale: data/Rock/Dont Dream Its Over-Crowded House\n",
      "Not completely in scale: data/Rock/Everything I Do I Do It For You-Bryan Adams\n",
      "Not completely in scale: data/Rock/I Wont Back Down-Tom Petty\n",
      "Not completely in scale: data/Rock/Bohemian Rhapsody-Queen\n",
      "Not completely in scale: data/Rock/Hey Soul Sister-Train\n",
      "Not completely in scale: data/Rock/Shes Always A Woman-Billy Joel\n",
      "Not completely in scale: data/Rock/Hosanna-Hillsong United\n",
      "Not completely in scale: data/Rock/Viva La Vida-Coldplay\n",
      "Not completely in scale: data/Rock/Unintended-Muse\n",
      "Not completely in scale: data/Rock/Sweet Caroline-Neil Diamond\n",
      "Not completely in scale: data/Rock/There Is A Light That Never Goes Out-The Smiths\n",
      "Not completely in scale: data/Rock/My Happy Ending-Avril Lavigne\n",
      "Not completely in scale: data/Rock/Heart Of Gold-Neil Young\n",
      "Not completely in scale: data/Rock/The Man Who Sold The World-Nirvana\n",
      "Not completely in scale: data/Rock/The Times They Are A-Changin-Bob Dylan\n",
      "Not completely in scale: data/Rock/Like A Rolling Stone-Bob Dylan\n",
      "Not completely in scale: data/Rock/With Or Without You-U2\n",
      "Not completely in scale: data/Rock/Love Story-Taylor Swift\n",
      "Not completely in scale: data/Rock/Take Me To Church-Hozier\n",
      "Not completely in scale: data/Rock/Remembering Sunday-All Time Low\n",
      "Not completely in scale: data/Rock/Sweater Weather-The Neighbourhood\n",
      "Not completely in scale: data/Rock/21 Guns-Green Day\n",
      "Not completely in scale: data/Rock/Smells Like Teen Spirit-Nirvana\n",
      "Not completely in scale: data/Rock/Iris-Goo Goo Dolls\n",
      "Not completely in scale: data/Rock/Africa-Toto\n",
      "Not completely in scale: data/Rock/Clocks-Coldplay\n",
      "Not completely in scale: data/Rock/Have You Ever Seen The Rain-Creedence Clearwater Revival\n",
      "Not completely in scale: data/Rock/Breakeven-The Script\n",
      "Not completely in scale: data/Rock/Wonderwall-Oasis\n",
      "Not completely in scale: data/Rock/High Hopes-Kodaline\n",
      "Not completely in scale: data/Rock/Take It Easy-Eagles\n",
      "Not completely in scale: data/Rock/Dont Think Twice Its All Right-Bob Dylan\n",
      "Not completely in scale: data/Rock/All My Loving-The Beatles\n",
      "Not completely in scale: data/Rock/Fast Car-Tracy Chapman\n",
      "Not completely in scale: data/Rock/Losing My Religion-REM\n",
      "Not completely in scale: data/Rock/Lola-The Kinks\n",
      "Not completely in scale: data/Country/Ho Hey-The Lumineers\n",
      "Not completely in scale: data/Country/Tennessee Whiskey-Chris Stapleton\n",
      "Not completely in scale: data/Country/Take Me Home Country Roads-John Denver\n",
      "Not completely in scale: data/Country/Wagon Wheel-Darius Rucker\n",
      "Not completely in scale: data/Pop/Dancing Queen-ABBA\n",
      "Not completely in scale: data/Pop/Girls Like You-Maroon 5\n",
      "Not completely in scale: data/Pop/Umbrella-Rihanna\n",
      "Not completely in scale: data/Pop/Breezeblocks-Alt-J\n",
      "Not completely in scale: data/Pop/My Way-Frank Sinatra\n",
      "Not completely in scale: data/Pop/Photograph-Ed Sheeran\n",
      "Not completely in scale: data/Pop/Can I Be Him-James Arthur\n",
      "Not completely in scale: data/Pop/Breakaway-Kelly Clarkson\n",
      "Not completely in scale: data/Pop/Stone Cold-Demi Lovato\n",
      "Not completely in scale: data/Pop/Superstition-Stevie Wonder\n",
      "Not completely in scale: data/Pop/Beauty And The Beast-Celine Dion\n",
      "Not completely in scale: data/Pop/Someone Like You-Adele\n",
      "Not completely in scale: data/Pop/Youre So Vain-Carly Simon\n",
      "Not completely in scale: data/Pop/Everything Has Changed-Taylor Swift\n",
      "Not completely in scale: data/Pop/Fireflies-Owl City\n",
      "Not completely in scale: data/Pop/Cant Help Falling In Love-Elvis Presley\n",
      "Not completely in scale: data/Pop/Space Oddity-David Bowie\n",
      "Not completely in scale: data/Pop/I Want It That Way-Backstreet Boys\n",
      "Not completely in scale: data/Pop/Summertime Sadness-Lana Del Rey\n",
      "Not completely in scale: data/Pop/Viva La Vida-Coldplay\n",
      "Not completely in scale: data/Pop/Sweet Caroline-Neil Diamond\n",
      "Not completely in scale: data/Pop/When I Was Your Man-Bruno Mars\n",
      "Not completely in scale: data/Pop/Just Give Me A Reason-Pnk\n",
      "Not completely in scale: data/Pop/Greatest Love Of All-Whitney Houston\n",
      "Not completely in scale: data/Pop/Make You Feel My Love-Adele\n",
      "Not completely in scale: data/Pop/The Lazy Song-Bruno Mars\n",
      "Not completely in scale: data/Pop/Love Story-Taylor Swift\n",
      "Not completely in scale: data/Pop/Liability-Lorde\n",
      "Not completely in scale: data/Pop/Say You Wont Let Go-James Arthur\n",
      "Not completely in scale: data/Pop/Talking To The Moon-Bruno Mars\n",
      "Not completely in scale: data/Pop/Our Song-Taylor Swift\n",
      "-----\n"
     ]
    }
   ],
   "source": [
    "directory = 'data/'\n",
    "not_i = 0\n",
    "total_songs = 0\n",
    "\n",
    "percentages = []\n",
    "out_of_key = {}\n",
    "\n",
    "for subdir, dirs, files in os.walk(directory):\n",
    "    for i, filename in enumerate(os.listdir(subdir)):\n",
    "        f = os.path.join(subdir, filename)\n",
    "        if os.path.isfile(f):\n",
    "            df, in_scale = process_song(f)\n",
    "            percentages.append(df)\n",
    "            out_of_key[f] = in_scale\n",
    "            total_songs += 1\n",
    "\n",
    "print('-----')"
   ]
  },
  {
   "attachments": {},
   "cell_type": "markdown",
   "metadata": {},
   "source": [
    "# Amount of chords not in scale"
   ]
  },
  {
   "cell_type": "code",
   "execution_count": 65,
   "metadata": {},
   "outputs": [
    {
     "name": "stdout",
     "output_type": "stream",
     "text": [
      "122\n",
      "382\n"
     ]
    }
   ],
   "source": [
    "print(not_i)\n",
    "print(total_songs)"
   ]
  },
  {
   "cell_type": "code",
   "execution_count": 66,
   "metadata": {},
   "outputs": [
    {
     "data": {
      "text/plain": [
       "Text(0.5, 1.0, 'Percent of songs’ chords in scale')"
      ]
     },
     "execution_count": 66,
     "metadata": {},
     "output_type": "execute_result"
    },
    {
     "data": {
      "image/png": "[encoded data removed]",
      "text/plain": [
       "<Figure size 1170x327 with 1 Axes>"
      ]
     },
     "metadata": {},
     "output_type": "display_data"
    }
   ],
   "source": [
    "sns.set(rc={'figure.figsize':(11.7,3.27)})\n",
    "df_scale = pd.DataFrame({'song': out_of_key.keys(), 'in_scale': out_of_key.values()})\n",
    "sns.histplot(df_scale[df_scale['in_scale'] < 1], bins=50, color='grey')\n",
    "plt.title('Percent of songs’ chords in scale')"
   ]
  }
 ],
 "metadata": {
  "kernelspec": {
   "display_name": "DSCourse",
   "language": "python",
   "name": "python3"
  },
  "language_info": {
   "codemirror_mode": {
    "name": "ipython",
    "version": 3
   },
   "file_extension": ".py",
   "mimetype": "text/x-python",
   "name": "python",
   "nbconvert_exporter": "python",
   "pygments_lexer": "ipython3",
   "version": "3.10.8"
  },
  "orig_nbformat": 4,
  "vscode": {
   "interpreter": {
    "hash": "96ba9299d946bccbf3399ec5ae34070706dbd6256dd544c0e76fa50261514d05"
   }
  }
 },
 "nbformat": 4,
 "nbformat_minor": 2
}
