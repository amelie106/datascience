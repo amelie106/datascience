{
 "cells": [
  {
   "cell_type": "code",
   "execution_count": 2,
   "metadata": {},
   "outputs": [],
   "source": [
    "import pandas as pd\n",
    "import chordparser\n",
    "import re\n",
    "import seaborn as sns\n",
    "import matplotlib.pyplot as plt\n",
    "import numpy as np\n",
    "import os\n",
    "import warnings\n",
    "warnings.filterwarnings(\"ignore\")"
   ]
  },
  {
   "cell_type": "code",
   "execution_count": 3,
   "metadata": {},
   "outputs": [],
   "source": [
    "percentages = []"
   ]
  },
  {
   "cell_type": "code",
   "execution_count": 4,
   "metadata": {},
   "outputs": [],
   "source": [
    "# # this file does not contain any chords\n",
    "# os.remove('data/Country/Tim Mcgraw-Taylor Swift')"
   ]
  },
  {
   "cell_type": "code",
   "execution_count": 5,
   "metadata": {},
   "outputs": [],
   "source": [
    "cp = chordparser.Parser()\n",
    "CE = chordparser.ChordEditor()\n",
    "CRC = chordparser.ChordRomanConverter()\n",
    "SE = chordparser.ScaleEditor()"
   ]
  },
  {
   "cell_type": "code",
   "execution_count": 6,
   "metadata": {},
   "outputs": [],
   "source": [
    "sharps_to_flats = {\n",
    "    'C#': 'Db',\n",
    "    'D#': 'Eb',\n",
    "    'F#': 'Gb',\n",
    "    'G#': 'Ab',\n",
    "    'A#': 'Bb',\n",
    "}"
   ]
  },
  {
   "cell_type": "code",
   "execution_count": 7,
   "metadata": {},
   "outputs": [],
   "source": [
    "lower_base = {\n",
    "    'C': 'B',\n",
    "    'B': 'Bb',\n",
    "    'Bb': 'A',\n",
    "    'A': 'Ab',\n",
    "    'Ab': 'G',\n",
    "    'G': 'Gb',\n",
    "    'Gb': 'F',\n",
    "    'F': 'E',\n",
    "    'E': 'Eb',\n",
    "    'Eb': 'D',\n",
    "    'D': 'Db',\n",
    "    'Db': 'C'\n",
    "}"
   ]
  },
  {
   "cell_type": "code",
   "execution_count": 8,
   "metadata": {},
   "outputs": [],
   "source": [
    "def key_detector(df, key):\n",
    "    scale = cp.create_scale(key)\n",
    "    \n",
    "    in_scale = 0\n",
    "    chords = []\n",
    "\n",
    "    for i, note in enumerate(scale._get_notes()):\n",
    "        if key.mode == 'major':\n",
    "            if i == 0 or i == 4 or i == 5:\n",
    "                chords.append(CE.create_chord(note.value))\n",
    "            else:\n",
    "                chords.append(CE.create_chord(note.value + 'm'))\n",
    "\n",
    "        if key.mode == 'minor':\n",
    "            if i == 3 or i == 6 or i == 7:\n",
    "                chords.append(CE.create_chord(note.value))\n",
    "            else:\n",
    "                chords.append(CE.create_chord(note.value + 'm'))\n",
    "\n",
    "    for i, row in df.iterrows():\n",
    "        current_cord = CE.create_chord(row['from'])\n",
    "        if current_cord in chords:\n",
    "            in_scale += 1\n",
    "\n",
    "    return in_scale / len(df)"
   ]
  },
  {
   "cell_type": "code",
   "execution_count": 9,
   "metadata": {},
   "outputs": [],
   "source": [
    "def process_song(file):\n",
    "    # dataframe\n",
    "    df = pd.read_csv(file, delimiter='\\t', skiprows=2, header=None)\n",
    "    df.columns=['from', 'to']\n",
    "    \n",
    "    percent_in_scale = 1.0\n",
    "\n",
    "    # signature\n",
    "    with open(file, \"r\") as fin:\n",
    "        signature = fin.readlines()[:2]\n",
    "        \n",
    "    base = re.split(':|\\\\n', signature[0])[1]\n",
    "    capo = re.split(':|\\\\n', signature[1])[1]\n",
    "    \n",
    "    if capo == 'None':\n",
    "        capo = 0\n",
    "    else:\n",
    "        capo = int(capo)\n",
    "\n",
    "    # key and scale\n",
    "    if('m' in base):\n",
    "        mode = 'minor'\n",
    "        base = base.replace('m', '')\n",
    "    else:\n",
    "        mode = 'major'\n",
    "        \n",
    "    if base in sharps_to_flats.keys() and base != df['from'][0].replace('m', ''):\n",
    "        base = sharps_to_flats[base]  \n",
    "\n",
    "    for i in range(capo):\n",
    "        base = lower_base[base]\n",
    "\n",
    "    df['from'] = df['from'].apply(lambda x: x.replace(')', '').replace('(', '').replace('-5', 'b5').replace('+5', '#5').replace('-', ''))#.replace('5', '').replace('-', ''))\n",
    "    df['to'] = df['to'].apply(lambda x: x.replace(')', '').replace('(', '').replace('-5', 'b5').replace('+5', '#5').replace('-', ''))#.replace('5', '').replace('-', ''))\n",
    "\n",
    "    # convert to roman\n",
    "    if base in sharps_to_flats.keys():\n",
    "        base = sharps_to_flats[base]  \n",
    "        \n",
    "    key = cp.create_key(base, mode)\n",
    "    first_chord = str(CRC.to_roman(CE.create_chord(df.iloc[0]['from']),key))\n",
    "\n",
    "    if first_chord != 'i' and first_chord != 'I':\n",
    "        global not_i\n",
    "        not_i += 1\n",
    "        percent_in_scale = key_detector(df,key)\n",
    "    \n",
    "    # if(percent_in_scale < 1):\n",
    "    #     print('Not completely in scale:', file)\n",
    "\n",
    "    return df, percent_in_scale"
   ]
  },
  {
   "cell_type": "code",
   "execution_count": 10,
   "metadata": {},
   "outputs": [
    {
     "name": "stdout",
     "output_type": "stream",
     "text": [
      "-----\n"
     ]
    }
   ],
   "source": [
    "directory = 'data/'\n",
    "not_i = 0\n",
    "total_songs = 0\n",
    "\n",
    "percentages = []\n",
    "out_of_key = {}\n",
    "\n",
    "for subdir, dirs, files in os.walk(directory):\n",
    "    for i, filename in enumerate(os.listdir(subdir)):\n",
    "        f = os.path.join(subdir, filename)\n",
    "        if os.path.isfile(f):\n",
    "            df, in_scale = process_song(f)\n",
    "            percentages.append(df)\n",
    "            out_of_key[f] = in_scale\n",
    "            total_songs += 1\n",
    "\n",
    "print('-----')"
   ]
  },
  {
   "attachments": {},
   "cell_type": "markdown",
   "metadata": {},
   "source": [
    "# Amount of chords not in scale"
   ]
  },
  {
   "cell_type": "code",
   "execution_count": 11,
   "metadata": {},
   "outputs": [
    {
     "name": "stdout",
     "output_type": "stream",
     "text": [
      "125\n",
      "382\n"
     ]
    }
   ],
   "source": [
    "print(not_i)\n",
    "print(total_songs)"
   ]
  },
  {
   "cell_type": "code",
   "execution_count": 12,
   "metadata": {},
   "outputs": [],
   "source": [
    "color = ['#31394d' for _ in range(len(out_of_key))]"
   ]
  },
  {
   "cell_type": "code",
   "execution_count": 22,
   "metadata": {},
   "outputs": [
    {
     "data": {
      "image/png": "[encoded data removed]",
      "text/plain": [
       "<Figure size 1170x327 with 1 Axes>"
      ]
     },
     "metadata": {},
     "output_type": "display_data"
    }
   ],
   "source": [
    "sns.set(rc={'figure.figsize':(11.7,3.27)}, style='white')\n",
    "df_scale = pd.DataFrame({'song': out_of_key.keys(), 'in_scale': out_of_key.values()})\n",
    "sns.histplot(df_scale[df_scale['in_scale'] < 1], bins=50, palette=color, alpha=1, legend=False)\n",
    "_ = plt.title('Percent of songs’ chords in scale', fontsize=20)\n",
    "_ = plt.xlabel('Percent in scale', fontsize=15)\n",
    "_ = plt.ylabel('Count of Songs', fontsize=15)"
   ]
  }
 ],
 "metadata": {
  "kernelspec": {
   "display_name": "DSCourse",
   "language": "python",
   "name": "python3"
  },
  "language_info": {
   "codemirror_mode": {
    "name": "ipython",
    "version": 3
   },
   "file_extension": ".py",
   "mimetype": "text/x-python",
   "name": "python",
   "nbconvert_exporter": "python",
   "pygments_lexer": "ipython3",
   "version": "3.10.8"
  },
  "orig_nbformat": 4,
  "vscode": {
   "interpreter": {
    "hash": "c61e57ae4ada5650947b9271e4db581f2d1f18c60a6bcd1b7a25b27106917c33"
   }
  }
 },
 "nbformat": 4,
 "nbformat_minor": 2
}
