{
 "cells": [
  {
   "cell_type": "code",
   "execution_count": 38,
   "metadata": {},
   "outputs": [],
   "source": [
    "import pandas as pd\n",
    "import seaborn as sns\n",
    "import numpy as np"
   ]
  },
  {
   "attachments": {},
   "cell_type": "markdown",
   "metadata": {},
   "source": [
    "---------------"
   ]
  },
  {
   "attachments": {},
   "cell_type": "markdown",
   "metadata": {},
   "source": [
    "### Load Data"
   ]
  },
  {
   "cell_type": "code",
   "execution_count": 39,
   "metadata": {},
   "outputs": [],
   "source": [
    "dataframes = {}\n",
    "nodelists = {}\n",
    "genres = ['Country', 'Electronic', 'Pop', 'Rock']\n",
    "\n",
    "df = pd.DataFrame(columns=['from_roman', 'to_roman'])\n",
    "nodes = pd.DataFrame(columns=['Id', 'sum_appearance'])"
   ]
  },
  {
   "cell_type": "code",
   "execution_count": 40,
   "metadata": {},
   "outputs": [],
   "source": [
    "for genre in genres:\n",
    "    dataframes[genre] = pd.read_csv('dataframes/df_' + genre.lower() + '.csv', index_col=0)\n",
    "    nodelists[genre] = pd.read_csv('node_lists/nodes_' + genre.lower() + '.csv')\n",
    "\n",
    "    df = pd.concat([df, dataframes[genre]])\n",
    "    nodelists[genre] = nodelists[genre].drop(columns=['percent', 'average_appearance'])\n",
    "    nodes = pd.concat([nodes, nodelists[genre]]).groupby(['Id']).sum().reset_index()"
   ]
  },
  {
   "cell_type": "code",
   "execution_count": 41,
   "metadata": {},
   "outputs": [],
   "source": [
    "nodes['percent'] = nodes['sum_appearance'] / nodes['sum_appearance'].sum()"
   ]
  },
  {
   "attachments": {},
   "cell_type": "markdown",
   "metadata": {},
   "source": [
    "----------------------"
   ]
  },
  {
   "attachments": {},
   "cell_type": "markdown",
   "metadata": {},
   "source": [
    "### Log Ratio"
   ]
  },
  {
   "cell_type": "code",
   "execution_count": 42,
   "metadata": {},
   "outputs": [],
   "source": [
    "def get_log(df, nodelist):\n",
    "\n",
    "    return_df = df.copy()\n",
    "\n",
    "    return_df = return_df.groupby(return_df.columns.tolist(),as_index=False).size()\n",
    "    \n",
    "    return_df['percent'] = return_df['size'] / return_df['size'].sum()\n",
    "    \n",
    "    log_ratio = []\n",
    "    for i, row in return_df.iterrows():\n",
    "        source_percent = nodelist.loc[nodelist['Id'] == row.from_roman, 'percent'].iloc[0]\n",
    "        target_percent = nodelist.loc[nodelist['Id'] == row.to_roman, 'percent'].iloc[0]\n",
    "        log_ratio.append(np.log(row.percent / (source_percent * target_percent)))\n",
    "\n",
    "    return_df['log_ratio'] = log_ratio\n",
    "\n",
    "    return return_df"
   ]
  },
  {
   "attachments": {},
   "cell_type": "markdown",
   "metadata": {},
   "source": [
    "------"
   ]
  },
  {
   "attachments": {},
   "cell_type": "markdown",
   "metadata": {},
   "source": [
    "# Main"
   ]
  },
  {
   "cell_type": "code",
   "execution_count": 67,
   "metadata": {},
   "outputs": [],
   "source": [
    "log_df = get_log(df, nodes)"
   ]
  },
  {
   "cell_type": "code",
   "execution_count": 68,
   "metadata": {},
   "outputs": [
    {
     "data": {
      "text/html": [
       "<div>\n",
       "<style scoped>\n",
       "    .dataframe tbody tr th:only-of-type {\n",
       "        vertical-align: middle;\n",
       "    }\n",
       "\n",
       "    .dataframe tbody tr th {\n",
       "        vertical-align: top;\n",
       "    }\n",
       "\n",
       "    .dataframe thead th {\n",
       "        text-align: right;\n",
       "    }\n",
       "</style>\n",
       "<table border=\"1\" class=\"dataframe\">\n",
       "  <thead>\n",
       "    <tr style=\"text-align: right;\">\n",
       "      <th></th>\n",
       "      <th>from_roman</th>\n",
       "      <th>to_roman</th>\n",
       "      <th>size</th>\n",
       "      <th>percent</th>\n",
       "      <th>log_ratio</th>\n",
       "    </tr>\n",
       "  </thead>\n",
       "  <tbody>\n",
       "    <tr>\n",
       "      <th>1238</th>\n",
       "      <td>𝄪vii</td>\n",
       "      <td>𝄪vii</td>\n",
       "      <td>1</td>\n",
       "      <td>0.000026</td>\n",
       "      <td>6.982833</td>\n",
       "    </tr>\n",
       "    <tr>\n",
       "      <th>877</th>\n",
       "      <td>vii7</td>\n",
       "      <td>I</td>\n",
       "      <td>1</td>\n",
       "      <td>0.000026</td>\n",
       "      <td>-0.858889</td>\n",
       "    </tr>\n",
       "    <tr>\n",
       "      <th>1067</th>\n",
       "      <td>♯I7</td>\n",
       "      <td>♭VII7</td>\n",
       "      <td>1</td>\n",
       "      <td>0.000026</td>\n",
       "      <td>4.430787</td>\n",
       "    </tr>\n",
       "    <tr>\n",
       "      <th>332</th>\n",
       "      <td>V</td>\n",
       "      <td>III6</td>\n",
       "      <td>1</td>\n",
       "      <td>0.000026</td>\n",
       "      <td>-0.233101</td>\n",
       "    </tr>\n",
       "    <tr>\n",
       "      <th>327</th>\n",
       "      <td>V</td>\n",
       "      <td>I7</td>\n",
       "      <td>1</td>\n",
       "      <td>0.000026</td>\n",
       "      <td>-2.498645</td>\n",
       "    </tr>\n",
       "    <tr>\n",
       "      <th>1072</th>\n",
       "      <td>♯I7</td>\n",
       "      <td>♯i7</td>\n",
       "      <td>1</td>\n",
       "      <td>0.000026</td>\n",
       "      <td>4.872620</td>\n",
       "    </tr>\n",
       "    <tr>\n",
       "      <th>321</th>\n",
       "      <td>IVM9</td>\n",
       "      <td>I6</td>\n",
       "      <td>1</td>\n",
       "      <td>0.000026</td>\n",
       "      <td>3.226814</td>\n",
       "    </tr>\n",
       "    <tr>\n",
       "      <th>319</th>\n",
       "      <td>IVM7</td>\n",
       "      <td>♭VII</td>\n",
       "      <td>1</td>\n",
       "      <td>0.000026</td>\n",
       "      <td>-0.303093</td>\n",
       "    </tr>\n",
       "    <tr>\n",
       "      <th>317</th>\n",
       "      <td>IVM7</td>\n",
       "      <td>iv</td>\n",
       "      <td>1</td>\n",
       "      <td>0.000026</td>\n",
       "      <td>-0.444774</td>\n",
       "    </tr>\n",
       "    <tr>\n",
       "      <th>699</th>\n",
       "      <td>iii</td>\n",
       "      <td>iii7</td>\n",
       "      <td>1</td>\n",
       "      <td>0.000026</td>\n",
       "      <td>0.320694</td>\n",
       "    </tr>\n",
       "  </tbody>\n",
       "</table>\n",
       "</div>"
      ],
      "text/plain": [
       "     from_roman to_roman  size   percent  log_ratio\n",
       "1238       𝄪vii     𝄪vii     1  0.000026   6.982833\n",
       "877        vii7        I     1  0.000026  -0.858889\n",
       "1067        ♯I7    ♭VII7     1  0.000026   4.430787\n",
       "332           V     III6     1  0.000026  -0.233101\n",
       "327           V       I7     1  0.000026  -2.498645\n",
       "1072        ♯I7      ♯i7     1  0.000026   4.872620\n",
       "321        IVM9       I6     1  0.000026   3.226814\n",
       "319        IVM7     ♭VII     1  0.000026  -0.303093\n",
       "317        IVM7       iv     1  0.000026  -0.444774\n",
       "699         iii     iii7     1  0.000026   0.320694"
      ]
     },
     "execution_count": 68,
     "metadata": {},
     "output_type": "execute_result"
    }
   ],
   "source": [
    "log_df.sort_values('percent', ascending=False).head(10)"
   ]
  },
  {
   "cell_type": "code",
   "execution_count": 60,
   "metadata": {},
   "outputs": [],
   "source": [
    "log_df_filtered = log_df[log_df['size'] > 400]\n",
    "color = ['#31394d' for _ in range(len(log_df_filtered))]"
   ]
  },
  {
   "cell_type": "code",
   "execution_count": 61,
   "metadata": {},
   "outputs": [
    {
     "data": {
      "image/png": "[encoded data removed]",
      "text/plain": [
       "<Figure size 640x480 with 1 Axes>"
      ]
     },
     "metadata": {},
     "output_type": "display_data"
    }
   ],
   "source": [
    "labels = log_df_filtered.from_roman + ' - ' + log_df_filtered.to_roman\n",
    "log = log_df_filtered.log_ratio\n",
    "df_plot = pd.DataFrame({'labels': labels, 'log': log}).sort_values('log', ascending=False)\n",
    "ax = sns.barplot(x=df_plot.labels, y=df_plot.log, palette=color)\n",
    "_ = ax.set_xticklabels(rotation=90, labels=labels, fontsize=12)\n",
    "_ = ax.set_title('Log Ratio of chords progressions across all genres', fontsize=20)\n",
    "_ = ax.set_xlabel('Chord Progressions', fontsize=15)\n",
    "_ = ax.set_ylabel('Log-Ratio', fontsize=15)"
   ]
  },
  {
   "attachments": {},
   "cell_type": "markdown",
   "metadata": {},
   "source": [
    "### Save to node_list and edge_list"
   ]
  },
  {
   "cell_type": "code",
   "execution_count": 46,
   "metadata": {},
   "outputs": [],
   "source": [
    "log_df = log_df.rename(columns={'from_roman': 'Source', 'to_roman': 'Target'})"
   ]
  },
  {
   "cell_type": "code",
   "execution_count": 47,
   "metadata": {},
   "outputs": [],
   "source": [
    "log_df.to_csv('edge_lists/edges_all.csv', index=False)\n",
    "nodes.to_csv('node_lists/nodes_all.csv', index=False)"
   ]
  }
 ],
 "metadata": {
  "kernelspec": {
   "display_name": "Python 3",
   "language": "python",
   "name": "python3"
  },
  "language_info": {
   "codemirror_mode": {
    "name": "ipython",
    "version": 3
   },
   "file_extension": ".py",
   "mimetype": "text/x-python",
   "name": "python",
   "nbconvert_exporter": "python",
   "pygments_lexer": "ipython3",
   "version": "3.8.0"
  },
  "orig_nbformat": 4,
  "vscode": {
   "interpreter": {
    "hash": "7f98614839827e241d8769e77beb87964b7d51ca2f59aa0f2ff5b3c5a548d61a"
   }
  }
 },
 "nbformat": 4,
 "nbformat_minor": 2
}
